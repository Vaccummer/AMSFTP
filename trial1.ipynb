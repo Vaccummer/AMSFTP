{
 "cells": [
  {
   "cell_type": "code",
   "execution_count": 2,
   "metadata": {},
   "outputs": [],
   "source": [
    "import os\n",
    "stat_f = os.stat(\"F:\\\\Windows_Data\\\\Desktop_File\\\\New folder (3).rar\")\n"
   ]
  },
  {
   "cell_type": "code",
   "execution_count": 8,
   "metadata": {},
   "outputs": [
    {
     "name": "stdout",
     "output_type": "stream",
     "text": [
      "F:\\Windows_Data\\Desktop_File\n"
     ]
    }
   ],
   "source": [
    "from pathlib import Path\n",
    "a = Path(\"F:\\\\Windows_Data/Desktop_File\\\\\")\n",
    "print(a)\n"
   ]
  },
  {
   "cell_type": "code",
   "execution_count": 1,
   "metadata": {},
   "outputs": [],
   "source": [
    "from http import client\n",
    "from AMSFTP import *\n",
    "import am_store as am\n",
    "import os\n",
    "from glob import glob\n",
    "def filename_cb(filename: str):\n",
    "    print(filename)\n",
    "\n",
    "def error_cb(error: str, error_code: TransferErrorCode):\n",
    "    print(error, error_code)\n",
    "\n",
    "def progress_cb(progress: int, total: int):\n",
    "    print(round(progress / total * 100, 2), \"%\")\n",
    "\n",
    "hostname = \"172.28.14.64\"\n",
    "username = \"am\"\n",
    "password = \"1984\"\n",
    "\n",
    "port = 22\n",
    "src = r'F:\\Windows_Data\\Desktop_File\\New folder (3).rar'\n",
    "dst = '/home/am/test2.rar'\n",
    "size_t = os.path.getsize(src)\n",
    "request = ConRequst(hostname=hostname, username=username, password=password, tar_system=TarSystemType.Unix, compression=False, port=port, trash_dir=r'/home/am/rm_trash', test_path='/home/am')\n",
    "keys = [str(i) for i in glob(r'C:\\Users\\am\\.ssh\\*')]\n",
    "set = TransferSet(transfer_type=TransferType.LocalToRemote, force_write=True)\n",
    "\n",
    "callback = TransferCallback(progress_cb=progress_cb, filename_cb=filename_cb, error_cb=error_cb,cb_interval_ms=1000, total_bytes=size_t, need_error_cb=False, need_progress_cb=True, need_filename_cb=True,)\n",
    "\n",
    "tasks = [\n",
    "    TransferTask(src=src, dst=dst, path_type=PathType.FILE, size=size_t)\n",
    "]\n",
    "client = AMSFTPClient(request, keys)\n",
    "a = 1\n",
    "\n"
   ]
  },
  {
   "cell_type": "code",
   "execution_count": null,
   "metadata": {},
   "outputs": [
    {
     "ename": "",
     "evalue": "",
     "output_type": "error",
     "traceback": [
      "\u001b[1;31mThe Kernel crashed while executing code in the current cell or a previous cell. \n",
      "\u001b[1;31mPlease review the code in the cell(s) to identify a possible cause of the failure. \n",
      "\u001b[1;31mClick <a href='https://aka.ms/vscodeJupyterKernelCrash'>here</a> for more info. \n",
      "\u001b[1;31mView Jupyter <a href='command:jupyter.viewOutput'>log</a> for further details."
     ]
    }
   ],
   "source": [
    "print(client.is_dir('/home/am'))"
   ]
  }
 ],
 "metadata": {
  "kernelspec": {
   "display_name": "Launcher",
   "language": "python",
   "name": "python3"
  },
  "language_info": {
   "codemirror_mode": {
    "name": "ipython",
    "version": 3
   },
   "file_extension": ".py",
   "mimetype": "text/x-python",
   "name": "python",
   "nbconvert_exporter": "python",
   "pygments_lexer": "ipython3",
   "version": "3.10.0"
  }
 },
 "nbformat": 4,
 "nbformat_minor": 2
}
